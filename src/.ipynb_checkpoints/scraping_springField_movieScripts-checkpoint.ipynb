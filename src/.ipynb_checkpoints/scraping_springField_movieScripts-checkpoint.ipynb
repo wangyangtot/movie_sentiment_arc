{
 "cells": [
  {
   "cell_type": "code",
   "execution_count": 3,
   "metadata": {},
   "outputs": [],
   "source": [
    "import requests\n",
    "import pandas as pd\n",
    "from bs4 import BeautifulSoup\n",
    "import os\n",
    "import numpy as np\n",
    "import re\n",
    "import codecs"
   ]
  },
  {
   "cell_type": "code",
   "execution_count": 551,
   "metadata": {},
   "outputs": [],
   "source": [
    "def scraping_one_page_links(path_to_load,download_pre_path):\n",
    "    response = requests.get(path_to_load)\n",
    "    soup = BeautifulSoup(response.text, 'html.parser')\n",
    "    scripts = soup.findAll('a',{\"class\":\"script-list-item\"})\n",
    "    download_full_path_list=[]\n",
    "    for script in scripts:\n",
    "        download_full_path_list.append(download_pre_path+script.get(\"href\"))\n",
    "    return download_full_path_list"
   ]
  },
  {
   "cell_type": "code",
   "execution_count": 630,
   "metadata": {},
   "outputs": [],
   "source": [
    "def scraping_one_page_scripts(download_full_path_list,dir_to_save):\n",
    "    download_Error_movies='/Users/yangyangwang/movie_sentiment_arc/data/springField_scraping/download_error_movies.txt'\n",
    "    for one_path in download_full_path_list:\n",
    "        #print one_path \n",
    "        movie_title=re.search(r'movie=.*',one_path).group()[6:]\n",
    "        response = requests.get(one_path)\n",
    "        soup = BeautifulSoup(response.text, 'html.parser')\n",
    "        scripts_page = soup.findAll(\"div\", {\"class\": \"movie_script\"})\n",
    "        try:\n",
    "            text=scripts_page[0].get_text()\n",
    "        except IndexError:## write the movie titles that scripts have errors\n",
    "            with codecs.open(download_Error_movies,'a') as wf:\n",
    "                wf.write(movie_title+'/n')\n",
    "            pass\n",
    "            \n",
    "        \n",
    "        if not os.path.exists(dir_to_save):\n",
    "               os.mkdir(dir_to_save)\n",
    "        with codecs.open(dir_to_save+movie_title+'.txt', \"w\",encoding='ascii', errors='ignore') as f:\n",
    "            f.write(text)"
   ]
  },
  {
   "cell_type": "code",
   "execution_count": 649,
   "metadata": {},
   "outputs": [],
   "source": [
    "## scraping all the alphabetized letters and got the total pages of every letter \n",
    "def scraping_alphabet_links():\n",
    "    download_lists='https://www.springfieldspringfield.co.uk/movie_scripts.php'\n",
    "    response = requests.get(download_lists)\n",
    "    soup = BeautifulSoup(response.text, 'html.parser')\n",
    "    alphabet=soup.find_all('div',{\"class\":\"main-content-left\"})\n",
    "    alphabet=alphabet[0].find_all('a')[:27] ## 26 letter and one o which represent the non_letter movie_titles\n",
    "    alphabet_link=[]\n",
    "    alphabet_num_pages_list=[]\n",
    "    for letter in alphabet:\n",
    "        alphabet_full_path=download_lists+letter.get('href')\n",
    "        alphabet_link.append(alphabet_full_path)\n",
    "        alphabet_num_pages_list.append(scraping_total_pages_at_every_letter(alphabet_full_path))\n",
    "    return alphabet_link,alphabet_num_pages_list\n",
    " "
   ]
  },
  {
   "cell_type": "code",
   "execution_count": 648,
   "metadata": {},
   "outputs": [
    {
     "name": "stdout",
     "output_type": "stream",
     "text": [
      "9 https://www.springfieldspringfield.co.uk/movie_scripts.php/movie_scripts.php?order=I 38\n",
      "9 https://www.springfieldspringfield.co.uk/movie_scripts.php/movie_scripts.php?order=I 39\n",
      "9 https://www.springfieldspringfield.co.uk/movie_scripts.php/movie_scripts.php?order=I 40\n",
      "9 https://www.springfieldspringfield.co.uk/movie_scripts.php/movie_scripts.php?order=I 41\n"
     ]
    }
   ],
   "source": [
    "if __name__ == '__main__':\n",
    "    download_pre_path='https://www.springfieldspringfield.co.uk'\n",
    "    download_lists_path='https://www.springfieldspringfield.co.uk/movie_scripts.php'\n",
    "    dir_to_save='/Users/yangyangwang/movie_sentiment_arc/data/springField_scraping/texts/'\n",
    "    scraping_all()"
   ]
  }
 ],
 "metadata": {
  "kernelspec": {
   "display_name": "Python 2",
   "language": "python",
   "name": "python2"
  },
  "language_info": {
   "codemirror_mode": {
    "name": "ipython",
    "version": 2
   },
   "file_extension": ".py",
   "mimetype": "text/x-python",
   "name": "python",
   "nbconvert_exporter": "python",
   "pygments_lexer": "ipython2",
   "version": "2.7.15"
  }
 },
 "nbformat": 4,
 "nbformat_minor": 2
}
