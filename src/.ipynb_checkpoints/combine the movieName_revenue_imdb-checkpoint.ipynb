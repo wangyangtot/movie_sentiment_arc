{
 "cells": [
  {
   "cell_type": "code",
   "execution_count": 1073,
   "metadata": {},
   "outputs": [],
   "source": [
    "import pandas as pd\n",
    "import os\n",
    "import numpy as np\n",
    "from shutil import copyfile"
   ]
  },
  {
   "cell_type": "code",
   "execution_count": 1074,
   "metadata": {},
   "outputs": [
    {
     "name": "stdout",
     "output_type": "stream",
     "text": [
      "imdb_movie  shape from title.akas (897942, 8) \n"
     ]
    }
   ],
   "source": [
    "imdb_movie=pd.read_csv('../data/title.akas.tsv',sep='\\t')\n",
    "imdb_movie=movie[movie['region']=='US']\n",
    "print('imdb_movie  shape from title.akas {} '.format(imdb_movie.shape))"
   ]
  },
  {
   "cell_type": "code",
   "execution_count": 1075,
   "metadata": {},
   "outputs": [
    {
     "name": "stdout",
     "output_type": "stream",
     "text": [
      "movie number from springField 23576 \n",
      "movie number from imsdb 1118 \n"
     ]
    }
   ],
   "source": [
    "springField=os.listdir('../data/springField_scraping/texts/')\n",
    "imsdb=os.listdir('../data/imsdb_scraping/texts/')\n",
    "print('movie number from springField {} '.format(len(springField)))\n",
    "print('movie number from imsdb {} '.format(len(imsdb)))"
   ]
  },
  {
   "cell_type": "code",
   "execution_count": 1076,
   "metadata": {},
   "outputs": [],
   "source": [
    "#clean up the title_name \n",
    "springField=[x[:-4].lower().replace(\"'\",\"\") for x in springField]\n",
    "imdb_movie['title']=imdb_movie['title'].apply(lambda x:x.lower().replace(' ','-').replace(\"'\",\"\"))\n",
    "imsdb=[x[:-4].lower().replace('_','-').replace(\"'\",\"\") for x in imsdb]"
   ]
  },
  {
   "cell_type": "code",
   "execution_count": 1077,
   "metadata": {
    "scrolled": true
   },
   "outputs": [
    {
     "name": "stdout",
     "output_type": "stream",
     "text": [
      "the number of name in which \"the\" is fliped:1430\n",
      "the number of name in which 'the' is fliped and in imdb:1117\n"
     ]
    }
   ],
   "source": [
    "the_tailed=[x for x in springField if x[-3:]=='the']\n",
    "the_head=[x[-3:]+\"-\"+x[:-4] for x in the_tailed]\n",
    "print ('the number of name in which \\\"the\\\" is fliped:{}'.format(len(the_head)))\n",
    "springField_the_head_imdb=imdb_movie[imdb_movie['title'].isin(the_head)]\n",
    "springField_the_head_imdb.drop_duplicates(subset='title',inplace=True)\n",
    "head_name_imdb=springField_the_head_imdb['title']\n",
    "print ('the number of name in which \\'the\\' is fliped and in imdb:{}'.format(len(head_name_imdb)))"
   ]
  },
  {
   "cell_type": "code",
   "execution_count": 1078,
   "metadata": {},
   "outputs": [
    {
     "name": "stdout",
     "output_type": "stream",
     "text": [
      "springField shape in imdb (11747, 8)after drop duplicates \n",
      "imsdb shape in imdb(813, 8) after drop duplicates\n"
     ]
    }
   ],
   "source": [
    "springField_imdb.drop_duplicates(subset='title',inplace=True)\n",
    "imsdb_imdb.drop_duplicates(subset='title',inplace=True)\n",
    "print ('springField shape in imdb {}after drop duplicates '.format(springField_imdb.shape))\n",
    "print ('imsdb shape in imdb{} after drop duplicates'.format(imsdb_imdb.shape))"
   ]
  },
  {
   "cell_type": "code",
   "execution_count": 1079,
   "metadata": {},
   "outputs": [],
   "source": [
    "## revenues and gross\n",
    "movie_revenue_title=pd.read_csv('../data/movie_revenues_scraping/movie_revenues.csv')['movie'].tolist()\n",
    "office_box_gross_title=pd.read_csv('../data/box_office/demostic_gross.csv')['movie_title'].tolist()\n",
    "office_box_gross_tile=[x.replace(\"'\",\"\")for x in office_box_gross_title]\n",
    "movie_revenue_title=[x.lower().replace(' ','-').replace('\\xc3\\xa2\\xc2\\x80\\xc2\\x99',\"\") for x in movie_revenue_title]"
   ]
  },
  {
   "cell_type": "code",
   "execution_count": 1080,
   "metadata": {},
   "outputs": [
    {
     "name": "stdout",
     "output_type": "stream",
     "text": [
      "movie_revenue_title number:5500\n",
      "office_box_gross_title number:15704\n"
     ]
    }
   ],
   "source": [
    "print ('movie_revenue_title number:{}'.format(len(movie_revenue_title)))\n",
    "print ('office_box_gross_title number:{}'.format(len(office_box_gross_title)))"
   ]
  },
  {
   "cell_type": "code",
   "execution_count": 1082,
   "metadata": {},
   "outputs": [
    {
     "name": "stdout",
     "output_type": "stream",
     "text": [
      "total_revenues:17035\n"
     ]
    }
   ],
   "source": [
    "revenue_total=set(movie_revenue_title).union(set(office_box_gross_title))\n",
    "print ('total_revenues:{}'.format(len(revenue_total)))"
   ]
  },
  {
   "cell_type": "code",
   "execution_count": 1083,
   "metadata": {},
   "outputs": [],
   "source": [
    "springField_imdb_name=springField_imdb['title'].tolist()\n",
    "imsdb_imdb_name=imsdb_imdb['title'].tolist()"
   ]
  },
  {
   "cell_type": "code",
   "execution_count": 1084,
   "metadata": {},
   "outputs": [],
   "source": [
    "springField_imsdb_names=(set(springField_imdb_name).union(set(imsdb_imdb_name)))"
   ]
  },
  {
   "cell_type": "code",
   "execution_count": null,
   "metadata": {},
   "outputs": [],
   "source": []
  },
  {
   "cell_type": "code",
   "execution_count": 1085,
   "metadata": {},
   "outputs": [
    {
     "name": "stdout",
     "output_type": "stream",
     "text": [
      "springField_and_imsdb_names_in_revenue:5342\n",
      "imsdb_names_in_revenue:637\n",
      "springField_names_in_revenue:5272\n",
      "only_springField_names_in_revenue:4705\n",
      "only_imsdb_names_in_revenue:637\n"
     ]
    }
   ],
   "source": [
    "springField_imsdb_names_in_revenue=(set(springField_imsdb_names).intersection(set(revenue_total)))\n",
    "print ('springField_and_imsdb_names_in_revenue:{}'.format(len(springField_imsdb_names_in_revenue)))\n",
    "imsdb_names_in_revenue=(set(imsdb_imdb_name).intersection(set(revenue_total)))\n",
    "print ('imsdb_names_in_revenue:{}'.format(len(imsdb_names_in_revenue)))\n",
    "springField_names_in_revenue=set(springField_imdb_name).intersection(set(revenue_total))\n",
    "print ('springField_names_in_revenue:{}'.format(len(springField_names_in_revenue)))\n",
    "springField_names_in_revenue_only=set(springField_names_in_revenue)-set(imsdb_names_in_revenue)\n",
    "print ('only_springField_names_in_revenue:{}'.format(len(springField_names_in_revenue_only)))\n",
    "imsdb_names_in_revenue_only=set(imsdb_names_in_revenue)-set(springField_names_in_revenue)\n",
    "print ('only_imsdb_names_in_revenue:{}'.format(len(imsdb_names_in_revenue)))\n"
   ]
  },
  {
   "cell_type": "code",
   "execution_count": 1086,
   "metadata": {},
   "outputs": [
    {
     "name": "stdout",
     "output_type": "stream",
     "text": [
      "head_names_in_revenue number:645\n",
      "head_names_in_revenue number after drop duplicats:577\n"
     ]
    }
   ],
   "source": [
    "head_names_in_revenue=(set(head_name_imdb).intersection(set(revenue_total)))\n",
    "print('head_names_in_revenue number:{}'.format(len(head_names_in_revenue)))\n",
    "the_name_in_revenue_only=set(head_names_in_revenue)-set(springField_imsdb_names_in_revenue)\n",
    "print ('head_names_in_revenue number after drop duplicats:{}'.format(len(the_name_in_revenue_only)))"
   ]
  },
  {
   "cell_type": "code",
   "execution_count": null,
   "metadata": {},
   "outputs": [],
   "source": []
  },
  {
   "cell_type": "code",
   "execution_count": null,
   "metadata": {},
   "outputs": [],
   "source": [
    "## copy selected files which is in imbd and also has demostic gross to our target dir  "
   ]
  },
  {
   "cell_type": "code",
   "execution_count": 1087,
   "metadata": {},
   "outputs": [],
   "source": [
    "for one in imsdb_names_in_revenue_only:\n",
    "    val=one.replace(\"-\",'_')+\".txt\"\n",
    "    \n",
    "    try:\n",
    "         copyfile('../data/imsdb_scraping/texts/'+val,'../data/select_texts/'+val)\n",
    "    except IOError: \n",
    "             pass\n",
    "    "
   ]
  },
  {
   "cell_type": "code",
   "execution_count": 1088,
   "metadata": {},
   "outputs": [],
   "source": [
    "for one in springField_names_in_revenue_only:\n",
    "    val=one+\".txt\"\n",
    "    try:\n",
    "        copyfile('../data/springField_scraping/texts/'+val,'../data/select_texts/'+val)\n",
    "    except IOError: \n",
    "        pass"
   ]
  },
  {
   "cell_type": "code",
   "execution_count": 1089,
   "metadata": {},
   "outputs": [],
   "source": [
    "for one in the_name_in_revenue_only:\n",
    "    original_name=one[4:]+\"-\"+one[:3]+'.txt'\n",
    "    try:\n",
    "        copyfile('../data/springField_scraping/texts/'+original_name,'../data/select_texts/'+one+'.txt')\n",
    "    except IOError: \n",
    "        pass"
   ]
  },
  {
   "cell_type": "code",
   "execution_count": 1090,
   "metadata": {},
   "outputs": [
    {
     "name": "stdout",
     "output_type": "stream",
     "text": [
      "all file numbers is:5347\n"
     ]
    }
   ],
   "source": [
    "files=os.listdir('../data/select_texts/')\n",
    "print('all file numbers is:{}'.format(len(files)))"
   ]
  },
  {
   "cell_type": "code",
   "execution_count": 1091,
   "metadata": {},
   "outputs": [],
   "source": [
    "files=os.listdir('../data/select_texts/')\n",
    "for file_title in files:\n",
    "      if os.path.getsize('../data/select_texts/'+file_title) <10000:\n",
    "        os.remove('../data/select_texts/'+file_title)"
   ]
  },
  {
   "cell_type": "code",
   "execution_count": 1092,
   "metadata": {},
   "outputs": [
    {
     "name": "stdout",
     "output_type": "stream",
     "text": [
      "all file numbers after remove the one whose size is less than 10000bytes is:5280\n"
     ]
    }
   ],
   "source": [
    "files=os.listdir('../data/select_texts/')\n",
    "print('all file numbers after remove the one whose size is less than 10000bytes :{}'.format(len(files)))"
   ]
  },
  {
   "cell_type": "code",
   "execution_count": null,
   "metadata": {},
   "outputs": [],
   "source": []
  }
 ],
 "metadata": {
  "kernelspec": {
   "display_name": "Python 2",
   "language": "python",
   "name": "python2"
  },
  "language_info": {
   "codemirror_mode": {
    "name": "ipython",
    "version": 2
   },
   "file_extension": ".py",
   "mimetype": "text/x-python",
   "name": "python",
   "nbconvert_exporter": "python",
   "pygments_lexer": "ipython2",
   "version": "2.7.15"
  }
 },
 "nbformat": 4,
 "nbformat_minor": 2
}
