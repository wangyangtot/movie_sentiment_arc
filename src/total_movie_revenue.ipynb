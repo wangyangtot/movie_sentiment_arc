{
 "cells": [
  {
   "cell_type": "code",
   "execution_count": 399,
   "metadata": {},
   "outputs": [],
   "source": [
    "import pandas as pd\n",
    "import numpy as np"
   ]
  },
  {
   "cell_type": "code",
   "execution_count": 400,
   "metadata": {},
   "outputs": [],
   "source": [
    "def load_two_revenue_fiels(boxOffice_path,numbers_path):\n",
    "    numbers_revenue=pd.read_csv(numbers_path)\n",
    "    office_box_gross=pd.read_csv(boxOffice_path)\n",
    "    return numbers_revenue,office_box_gross"
   ]
  },
  {
   "cell_type": "code",
   "execution_count": 401,
   "metadata": {},
   "outputs": [],
   "source": [
    "def extract_and_clean_demostic_revenues(numbers_revenue,office_box_gross):\n",
    "    numbers_revenue=numbers_revenue[['movie','Domestic_Gross']]\n",
    "    numbers_revenue.columns=[['numbers_movie','numbers_domestic_gross']]\n",
    "    numbers_revenue['numbers_movie']=numbers_revenue['numbers_movie'].apply\\\n",
    "    (lambda x:x.replace('\\xc3\\xa2\\xc2\\x80\\xc2\\x99',\"\"))\n",
    "    numbers_revenue.drop_duplicates(subset='numbers_movie',keep=False,inplace=True)\n",
    "         ## '\\xc3\\xa2\\xc2\\x80\\xc2\\x99' represents ' in numbers_revenue file_names and delets it\n",
    "    office_box_gross.columns=[['officeBox_movie','officeBox_gross']]\n",
    "    office_box_gross['officeBox_movie']=office_box_gross['officeBox_movie'].apply\\\n",
    "                                              (lambda x:x.replace(\"'\",\"\"))\n",
    "    office_box_gross.drop_duplicates(subset='officeBox_movie',keep=False,inplace=True)\n",
    "    print('numbers_revenue shape{}'.format(numbers_revenue.shape))\n",
    "    print('office_box_gross shape{}'.format(office_box_gross.shape))\n",
    "    return numbers_revenue,office_box_gross"
   ]
  },
  {
   "cell_type": "code",
   "execution_count": 402,
   "metadata": {},
   "outputs": [],
   "source": [
    "def drop_gross_duplicates(numbers_revenue,office_box_gross,file_to_save):\n",
    "    intersection=pd.merge(office_box_gross,numbers_revenue,left_on='officeBox_movie',right_on='numbers_movie',how='inner')\n",
    "    intersection['officeBox_gross']=intersection['officeBox_gross'].apply\\\n",
    "                           (lambda x:int(x[1:].replace(\",\",\"\")))\n",
    "    intersection['numbers_domestic_gross']=intersection['numbers_domestic_gross'].apply\\\n",
    "                           (lambda x:int(x[1:].replace(\",\",\"\"))) \n",
    "    ##  utilize the bigger gross as select gross in two files \n",
    "    intersection['select_gross']=np.maximum(intersection['officeBox_gross'],intersection['numbers_domestic_gross'])\n",
    "    intersection['movie_title']=intersection['officeBox_movie']\n",
    "    intersection=intersection[['movie_title','select_gross']]\n",
    "    intersection_name=intersection['movie_title'].tolist()\n",
    "    office_box_gross_only=office_box_gross[~office_box_gross['officeBox_movie'].isin(intersection_name)]\n",
    "    numbers_revenue_only=numbers_revenue[~numbers_revenue['numbers_movie'].isin(intersection_name)]\n",
    "    numbers_revenue_only['numbers_domestic_gross']=numbers_revenue_only['numbers_domestic_gross'].apply\\\n",
    "                             (lambda x:int(x[1:].replace(\",\",\"\")))\n",
    "    office_box_gross_only['officeBox_gross']=office_box_gross_only['officeBox_gross'].apply\\\n",
    "                             (lambda x:int(x[1:].replace(\",\",\"\")))\n",
    "    office_box_gross_only.columns=[['movie_title','select_gross']]\n",
    "    numbers_revenue_only.columns=[['movie_title','select_gross']]\n",
    "    total_movie_demostic_gross=pd.concat([intersection,numbers_revenue_only,office_box_gross_only],ignore_index=True)\n",
    "    total_movie_demostic_gross=total_movie_demostic_gross[total_movie_demostic_gross['select_gross']!=0]\n",
    "    print('the number of movies only in box office is:{}'.format(office_box_gross_only.shape[0]))\n",
    "    print('the number of movies only in numbers is:{}'.format(numbers_revenue_only.shape[0]))\n",
    "    print('the number of movies in both box office and numbers is:{}'.format(intersection.shape[0]))\n",
    "    print('the total movies number is:{}'.format(total_movie_demostic_gross.shape[0]))\n",
    "    total_movie_demostic_gross.to_csv(file_to_save,index=False)\n",
    "    #del office_box_gross_only,numbers_revenue_only,total_movie_demostic_gross,intersection"
   ]
  },
  {
   "cell_type": "code",
   "execution_count": 403,
   "metadata": {},
   "outputs": [
    {
     "name": "stdout",
     "output_type": "stream",
     "text": [
      "numbers_revenue shape(5354, 2)\n",
      "office_box_gross shape(15615, 2)\n",
      "the number of movies only in box office is:11449\n",
      "the number of movies only in numbers is:1188\n",
      "the number of movies in both box office and numbers is:4166\n",
      "the total movies number is:16342\n"
     ]
    },
    {
     "name": "stderr",
     "output_type": "stream",
     "text": [
      "/usr/local/lib/python2.7/site-packages/ipykernel/__main__.py:4: SettingWithCopyWarning: \n",
      "A value is trying to be set on a copy of a slice from a DataFrame.\n",
      "Try using .loc[row_indexer,col_indexer] = value instead\n",
      "\n",
      "See the caveats in the documentation: http://pandas.pydata.org/pandas-docs/stable/indexing.html#indexing-view-versus-copy\n",
      "/usr/local/lib/python2.7/site-packages/ipykernel/__main__.py:12: SettingWithCopyWarning: \n",
      "A value is trying to be set on a copy of a slice from a DataFrame.\n",
      "Try using .loc[row_indexer,col_indexer] = value instead\n",
      "\n",
      "See the caveats in the documentation: http://pandas.pydata.org/pandas-docs/stable/indexing.html#indexing-view-versus-copy\n",
      "/usr/local/lib/python2.7/site-packages/ipykernel/__main__.py:13: SettingWithCopyWarning: \n",
      "A value is trying to be set on a copy of a slice from a DataFrame.\n",
      "Try using .loc[row_indexer,col_indexer] = value instead\n",
      "\n",
      "See the caveats in the documentation: http://pandas.pydata.org/pandas-docs/stable/indexing.html#indexing-view-versus-copy\n"
     ]
    }
   ],
   "source": [
    "if __name__ == \"__main__\":\n",
    "    numbers_path='../data/movie_revenues_scraping/movie_revenues.csv'\n",
    "    boxOffice_path='../data/box_office/demostic_gross.csv'\n",
    "    file_to_save='../data/select_total_movie_demostic_gross.csv'\n",
    "    numbers_revenue,office_box_gross=load_two_revenue_fiels(boxOffice_path,numbers_path)\n",
    "    numbers_revenue,office_box_gross=extract_and_clean_demostic_revenues(numbers_revenue,office_box_gross)\n",
    "    drop_gross_duplicates(numbers_revenue,office_box_gross,file_to_save)"
   ]
  },
  {
   "cell_type": "code",
   "execution_count": 412,
   "metadata": {},
   "outputs": [
    {
     "data": {
      "text/html": [
       "<div>\n",
       "<table border=\"1\" class=\"dataframe\">\n",
       "  <thead>\n",
       "    <tr style=\"text-align: right;\">\n",
       "      <th></th>\n",
       "      <th>numbers_movie</th>\n",
       "      <th>numbers_domestic_gross</th>\n",
       "    </tr>\n",
       "  </thead>\n",
       "  <tbody>\n",
       "    <tr>\n",
       "      <th>3828</th>\n",
       "      <td>the-godfather</td>\n",
       "      <td>$134,966,411</td>\n",
       "    </tr>\n",
       "  </tbody>\n",
       "</table>\n",
       "</div>"
      ],
      "text/plain": [
       "      numbers_movie numbers_domestic_gross\n",
       "3828  the-godfather           $134,966,411"
      ]
     },
     "execution_count": 412,
     "metadata": {},
     "output_type": "execute_result"
    }
   ],
   "source": [
    "numbers_revenue[numbers_revenue['numbers_movie']=='the-godfather']"
   ]
  },
  {
   "cell_type": "code",
   "execution_count": 411,
   "metadata": {},
   "outputs": [
    {
     "data": {
      "text/html": [
       "<div>\n",
       "<table border=\"1\" class=\"dataframe\">\n",
       "  <thead>\n",
       "    <tr style=\"text-align: right;\">\n",
       "      <th></th>\n",
       "      <th>movie_title</th>\n",
       "      <th>select_gross</th>\n",
       "    </tr>\n",
       "  </thead>\n",
       "  <tbody>\n",
       "    <tr>\n",
       "      <th>353</th>\n",
       "      <td>the-godfather</td>\n",
       "      <td>134966411</td>\n",
       "    </tr>\n",
       "  </tbody>\n",
       "</table>\n",
       "</div>"
      ],
      "text/plain": [
       "       movie_title  select_gross\n",
       "353  the-godfather     134966411"
      ]
     },
     "execution_count": 411,
     "metadata": {},
     "output_type": "execute_result"
    }
   ],
   "source": [
    "total_movie_demostic_gross[total_movie_demostic_gross['movie_title']=='the-godfather']"
   ]
  },
  {
   "cell_type": "code",
   "execution_count": null,
   "metadata": {},
   "outputs": [],
   "source": []
  }
 ],
 "metadata": {
  "kernelspec": {
   "display_name": "Python 2",
   "language": "python",
   "name": "python2"
  },
  "language_info": {
   "codemirror_mode": {
    "name": "ipython",
    "version": 2
   },
   "file_extension": ".py",
   "mimetype": "text/x-python",
   "name": "python",
   "nbconvert_exporter": "python",
   "pygments_lexer": "ipython2",
   "version": "2.7.15"
  }
 },
 "nbformat": 4,
 "nbformat_minor": 2
}
