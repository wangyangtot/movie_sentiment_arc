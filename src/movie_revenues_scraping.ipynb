{
 "cells": [
  {
   "cell_type": "code",
   "execution_count": 1,
   "metadata": {},
   "outputs": [],
   "source": [
    "import requests\n",
    "import pandas as pd\n",
    "from bs4 import BeautifulSoup\n",
    "import os"
   ]
  },
  {
   "cell_type": "code",
   "execution_count": 8,
   "metadata": {},
   "outputs": [],
   "source": [
    "def scraping_all_movie_revenues():\n",
    "    #table=pd.DataFrame(columns=[['release_date','movie','Production_Budget','Domestic_Gross','Worldwide_Gross']])\n",
    "    for current in range(1,5501,100):  # Last page, by inspection is 5501\n",
    "        url = 'http://www.the-numbers.com/movie/budgets/all/'+str(current)\n",
    "        data_frame=scraping_one_page(url)\n",
    "        if(current==1):\n",
    "            table=data_frame\n",
    "        else:\n",
    "            table=pd.concat([table,data_frame])\n",
    "    return table"
   ]
  },
  {
   "cell_type": "code",
   "execution_count": 9,
   "metadata": {},
   "outputs": [],
   "source": [
    "def scraping_one_page(downloadUrl):\n",
    "    response = requests.get(downloadUrl)\n",
    "    soup = BeautifulSoup(response.text, 'html.parser')\n",
    "    \n",
    "    ## scraping releasing-date,movie, Production_Budget,Domestic_Gross,Worldwide_Gross in the main table area\n",
    "    Production_Budget=[]\n",
    "    Domestic_Gross=[]\n",
    "    Worldwide_Gross=[]\n",
    "    release_date=[]\n",
    "    movie=[]\n",
    "    description=soup.find(id='main')\n",
    "    description=description.findAll('td')\n",
    "    for i  in range(0,len(description),6):\n",
    "        release_date.append(description[i+1].get_text())\n",
    "        movie.append(description[i+2].get_text())\n",
    "        Production_Budget.append(description[i+3].get_text())\n",
    "        Domestic_Gross.append(description[i+4].get_text())\n",
    "        Worldwide_Gross.append(description[i+5].get_text())\n",
    "        ## integrate to a dataFrame \n",
    "    integrate={\n",
    "        'release_date':release_date,\n",
    "        'movie':movie,\n",
    "        'Production_Budget':Production_Budget,\n",
    "        'Domestic_Gross':Domestic_Gross,\n",
    "        'Worldwide_Gross':Worldwide_Gross,\n",
    "        }\n",
    "    table=pd.DataFrame.from_dict(integrate)\n",
    "    return table"
   ]
  },
  {
   "cell_type": "code",
   "execution_count": 11,
   "metadata": {},
   "outputs": [],
   "source": [
    "if __name__ == '__main__':\n",
    "    movie_revenues=scraping_all_movie_revenues()\n",
    "    if not os.path.exists('../data/movie_revenues_scraping'):\n",
    "        os.mkdir('../data/movie_revenues_scraping')\n",
    "    movie_revenues.to_csv(\"../data/movie_revenues_scraping/movie_revenues.csv\",index=False)"
   ]
  },
  {
   "cell_type": "code",
   "execution_count": null,
   "metadata": {},
   "outputs": [],
   "source": []
  }
 ],
 "metadata": {
  "kernelspec": {
   "display_name": "Python 3",
   "language": "python",
   "name": "python3"
  },
  "language_info": {
   "codemirror_mode": {
    "name": "ipython",
    "version": 3
   },
   "file_extension": ".py",
   "mimetype": "text/x-python",
   "name": "python",
   "nbconvert_exporter": "python",
   "pygments_lexer": "ipython3",
   "version": "3.6.5"
  }
 },
 "nbformat": 4,
 "nbformat_minor": 2
}
