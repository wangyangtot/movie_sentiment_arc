{
 "cells": [
  {
   "cell_type": "code",
   "execution_count": 42,
   "metadata": {},
   "outputs": [],
   "source": [
    "import matplotlib\n",
    "import matplotlib.pyplot as plt\n",
    "import numpy as np\n",
    "import mpld3\n",
    "from mpld3 import plugins, utils\n",
    "from sklearn import manifold\n",
    "from sklearn.metrics import euclidean_distances\n",
    "from sklearn.decomposition import PCA"
   ]
  },
  {
   "cell_type": "code",
   "execution_count": 20,
   "metadata": {},
   "outputs": [
    {
     "data": {
      "text/plain": [
       "<matplotlib.text.Text at 0x1041b4a50>"
      ]
     },
     "execution_count": 20,
     "metadata": {},
     "output_type": "execute_result"
    }
   ],
   "source": [
    "fig, ax = plt.subplots(2)\n",
    "\n",
    "# scatter periods and amplitudes\n",
    "np.random.seed(0)\n",
    "P = 0.2 + np.random.random(size=20)\n",
    "A = np.random.random(size=20)\n",
    "x = np.linspace(0, 10, 100)\n",
    "data = np.array([[x, Ai * np.sin(x / Pi)]\n",
    "                 for (Ai, Pi) in zip(A, P)])\n",
    "points = ax[1].scatter(P, A, c=P + A,\n",
    "                       s=200, alpha=0.5)\n",
    "ax[1].set_xlabel('Period')\n",
    "ax[1].set_ylabel('Amplitude')\n",
    "\n",
    "# create the line object\n",
    "lines = ax[0].plot(x, 0 * x, '-w', lw=3, alpha=0.5)\n",
    "ax[0].set_ylim(-1, 1)\n",
    "\n",
    "ax[0].set_title(\"Hover over points to see lines\")"
   ]
  },
  {
   "cell_type": "code",
   "execution_count": 23,
   "metadata": {},
   "outputs": [],
   "source": [
    "linedata = data.transpose(0, 2, 1).tolist()"
   ]
  },
  {
   "cell_type": "code",
   "execution_count": 28,
   "metadata": {},
   "outputs": [
    {
     "data": {
      "text/plain": [
       "2"
      ]
     },
     "execution_count": 28,
     "metadata": {},
     "output_type": "execute_result"
    }
   ],
   "source": [
    "len(linedata[0][0])"
   ]
  },
  {
   "cell_type": "code",
   "execution_count": 32,
   "metadata": {},
   "outputs": [],
   "source": [
    "class LinkedView(plugins.PluginBase):\n",
    "     def __init__(self, points, line, linedata):\n",
    "        if isinstance(points, matplotlib.lines.Line2D):\n",
    "            suffix = \"pts\"\n",
    "        else:\n",
    "            suffix = None\n",
    "\n",
    "        self.dict_ = {\"type\": \"linkedview\",\n",
    "                      \"idpts\": utils.get_id(points, suffix),\n",
    "                      \"idline\": utils.get_id(line),\n",
    "                      \"data\": linedata}\n"
   ]
  },
  {
   "cell_type": "code",
   "execution_count": 40,
   "metadata": {},
   "outputs": [
    {
     "name": "stdout",
     "output_type": "stream",
     "text": [
      "\n",
      "Note: if you're in the IPython notebook, mpld3.show() is not the best command\n",
      "      to use. Consider using mpld3.display(), or mpld3.enable_notebook().\n",
      "      See more information at http://mpld3.github.io/quickstart.html .\n",
      "\n",
      "You must interrupt the kernel to end this command\n",
      "\n",
      "Serving to http://127.0.0.1:8889/    [Ctrl-C to exit]\n"
     ]
    },
    {
     "name": "stderr",
     "output_type": "stream",
     "text": [
      "127.0.0.1 - - [11/Aug/2018 18:36:41] \"GET / HTTP/1.1\" 200 -\n",
      "127.0.0.1 - - [11/Aug/2018 18:36:41] \"GET /d3.js HTTP/1.1\" 200 -\n",
      "127.0.0.1 - - [11/Aug/2018 18:36:41] \"GET /mpld3.js HTTP/1.1\" 200 -\n"
     ]
    },
    {
     "name": "stdout",
     "output_type": "stream",
     "text": [
      "----------------------------------------\n",
      "Exception happened during processing of request from ('127.0.0.1', 60930)\n",
      "----------------------------------------\n"
     ]
    },
    {
     "name": "stderr",
     "output_type": "stream",
     "text": [
      "Traceback (most recent call last):\n",
      "  File \"/usr/local/Cellar/python@2/2.7.15_1/Frameworks/Python.framework/Versions/2.7/lib/python2.7/SocketServer.py\", line 290, in _handle_request_noblock\n",
      "    self.process_request(request, client_address)\n",
      "  File \"/usr/local/Cellar/python@2/2.7.15_1/Frameworks/Python.framework/Versions/2.7/lib/python2.7/SocketServer.py\", line 318, in process_request\n",
      "    self.finish_request(request, client_address)\n",
      "  File \"/usr/local/Cellar/python@2/2.7.15_1/Frameworks/Python.framework/Versions/2.7/lib/python2.7/SocketServer.py\", line 331, in finish_request\n",
      "    self.RequestHandlerClass(request, client_address, self)\n",
      "  File \"/usr/local/Cellar/python@2/2.7.15_1/Frameworks/Python.framework/Versions/2.7/lib/python2.7/SocketServer.py\", line 652, in __init__\n",
      "    self.handle()\n",
      "  File \"/usr/local/Cellar/python@2/2.7.15_1/Frameworks/Python.framework/Versions/2.7/lib/python2.7/BaseHTTPServer.py\", line 340, in handle\n",
      "    self.handle_one_request()\n",
      "  File \"/usr/local/Cellar/python@2/2.7.15_1/Frameworks/Python.framework/Versions/2.7/lib/python2.7/BaseHTTPServer.py\", line 310, in handle_one_request\n",
      "    self.raw_requestline = self.rfile.readline(65537)\n",
      "  File \"/usr/local/Cellar/python@2/2.7.15_1/Frameworks/Python.framework/Versions/2.7/lib/python2.7/socket.py\", line 480, in readline\n",
      "    data = self._sock.recv(self._rbufsize)\n",
      "KeyboardInterrupt\n"
     ]
    },
    {
     "name": "stdout",
     "output_type": "stream",
     "text": [
      "\n",
      "stopping Server...\n"
     ]
    }
   ],
   "source": [
    "plugins.connect(fig, LinkedView(points, lines[0], linedata))\n",
    "\n",
    "mpld3.show()"
   ]
  },
  {
   "cell_type": "code",
   "execution_count": 43,
   "metadata": {},
   "outputs": [],
   "source": [
    "np.random.seed(0)\n",
    "P = 0.2 + np.random.random(size=20)\n",
    "A = np.random.random(size=20)\n",
    "x = np.linspace(0, 10, 100)\n",
    "data = np.array([[x, Ai * np.sin(x / Pi)]\n",
    "                 for (Ai, Pi) in zip(A, P)])\n"
   ]
  },
  {
   "cell_type": "code",
   "execution_count": 53,
   "metadata": {},
   "outputs": [
    {
     "data": {
      "text/plain": [
       "array([[  0.        ,   0.1010101 ,   0.2020202 ,   0.3030303 ,\n",
       "          0.4040404 ,   0.50505051,   0.60606061,   0.70707071,\n",
       "          0.80808081,   0.90909091,   1.01010101,   1.11111111,\n",
       "          1.21212121,   1.31313131,   1.41414141,   1.51515152,\n",
       "          1.61616162,   1.71717172,   1.81818182,   1.91919192,\n",
       "          2.02020202,   2.12121212,   2.22222222,   2.32323232,\n",
       "          2.42424242,   2.52525253,   2.62626263,   2.72727273,\n",
       "          2.82828283,   2.92929293,   3.03030303,   3.13131313,\n",
       "          3.23232323,   3.33333333,   3.43434343,   3.53535354,\n",
       "          3.63636364,   3.73737374,   3.83838384,   3.93939394,\n",
       "          4.04040404,   4.14141414,   4.24242424,   4.34343434,\n",
       "          4.44444444,   4.54545455,   4.64646465,   4.74747475,\n",
       "          4.84848485,   4.94949495,   5.05050505,   5.15151515,\n",
       "          5.25252525,   5.35353535,   5.45454545,   5.55555556,\n",
       "          5.65656566,   5.75757576,   5.85858586,   5.95959596,\n",
       "          6.06060606,   6.16161616,   6.26262626,   6.36363636,\n",
       "          6.46464646,   6.56565657,   6.66666667,   6.76767677,\n",
       "          6.86868687,   6.96969697,   7.07070707,   7.17171717,\n",
       "          7.27272727,   7.37373737,   7.47474747,   7.57575758,\n",
       "          7.67676768,   7.77777778,   7.87878788,   7.97979798,\n",
       "          8.08080808,   8.18181818,   8.28282828,   8.38383838,\n",
       "          8.48484848,   8.58585859,   8.68686869,   8.78787879,\n",
       "          8.88888889,   8.98989899,   9.09090909,   9.19191919,\n",
       "          9.29292929,   9.39393939,   9.49494949,   9.5959596 ,\n",
       "          9.6969697 ,   9.7979798 ,   9.8989899 ,  10.        ],\n",
       "       [  0.        ,   0.13160931,   0.26082744,   0.38530669,\n",
       "          0.50278541,   0.61112919,   0.70836954,   0.79273975,\n",
       "          0.86270692,   0.91699983,   0.95463205,   0.97491987,\n",
       "          0.97749466,   0.96230965,   0.92964074,   0.88008147,\n",
       "          0.81453228,   0.7341841 ,   0.64049676,   0.53517242,\n",
       "          0.42012471,   0.29744388,   0.16935889,   0.03819686,\n",
       "         -0.09365915,  -0.2238135 ,  -0.34990145,  -0.46963214,\n",
       "         -0.58083024,  -0.68147541,  -0.76973907,  -0.84401757,\n",
       "         -0.90296138,  -0.94549957,  -0.97085926,  -0.97857972,\n",
       "         -0.96852066,  -0.94086485,  -0.89611476,  -0.83508343,\n",
       "         -0.75887973,  -0.66888818,  -0.56674381,  -0.45430245,\n",
       "         -0.33360701,  -0.20685036,  -0.07633551,   0.05556625,\n",
       "          0.18645845,   0.31396294,   0.43576314,   0.54964609,\n",
       "          0.65354269,   0.74556527,   0.82404191,   0.88754679,\n",
       "          0.93492611,   0.96531904,   0.97817339,   0.97325561,\n",
       "          0.95065505,   0.91078233,   0.85436189,   0.78241881,\n",
       "          0.69626021,   0.59745147,   0.48778782,   0.3692617 ,\n",
       "          0.24402658,   0.11435782,  -0.01738867,  -0.14881923,\n",
       "         -0.27754595,  -0.40123001,  -0.51762426,  -0.62461394,\n",
       "         -0.72025521,  -0.80281039,  -0.87077955,  -0.92292779,\n",
       "         -0.95830764,  -0.97627629,  -0.97650728,  -0.95899642,\n",
       "         -0.92406184,  -0.87233827,  -0.80476546,  -0.72257111,\n",
       "         -0.62724859,  -0.52052978,  -0.40435363,  -0.28083091,\n",
       "         -0.15220585,  -0.02081541,   0.11095321,   0.24070596,\n",
       "          0.3660854 ,   0.48481355,   0.59473327,   0.69384746]])"
      ]
     },
     "execution_count": 53,
     "metadata": {},
     "output_type": "execute_result"
    }
   ],
   "source": [
    "data[0]"
   ]
  },
  {
   "cell_type": "code",
   "execution_count": 54,
   "metadata": {},
   "outputs": [],
   "source": [
    "linedata = data.transpose(0, 2, 1).tolist()"
   ]
  },
  {
   "cell_type": "code",
   "execution_count": 58,
   "metadata": {},
   "outputs": [
    {
     "data": {
      "text/plain": [
       "[[0.0, 0.0],\n",
       " [0.10101010101010101, 0.13160930619855538],\n",
       " [0.20202020202020202, 0.26082744362549254],\n",
       " [0.30303030303030304, 0.3853066879149083],\n",
       " [0.40404040404040403, 0.5027854141843614],\n",
       " [0.5050505050505051, 0.6111291877977388],\n",
       " [0.6060606060606061, 0.7083695442478822],\n",
       " [0.7070707070707071, 0.7927397535792837],\n",
       " [0.8080808080808081, 0.862706919558118],\n",
       " [0.9090909090909091, 0.9169998303897203],\n",
       " [1.0101010101010102, 0.9546320549724414],\n",
       " [1.1111111111111112, 0.9749198650591845],\n",
       " [1.2121212121212122, 0.9774946577044197],\n",
       " [1.3131313131313131, 0.9623096522970753],\n",
       " [1.4141414141414141, 0.9296407405029896],\n",
       " [1.5151515151515151, 0.8800814736745789],\n",
       " [1.6161616161616161, 0.8145322787999288],\n",
       " [1.7171717171717171, 0.73418409892339],\n",
       " [1.8181818181818181, 0.6404967552698179],\n",
       " [1.9191919191919191, 0.5351724242043268],\n",
       " [2.0202020202020203, 0.4201247109164718],\n",
       " [2.121212121212121, 0.29744388171952707],\n",
       " [2.2222222222222223, 0.16935888664844795],\n",
       " [2.323232323232323, 0.0381968623562074],\n",
       " [2.4242424242424243, -0.0936591489121686],\n",
       " [2.525252525252525, -0.22381349607696446],\n",
       " [2.6262626262626263, -0.3499014450671626],\n",
       " [2.727272727272727, -0.46963214294225747],\n",
       " [2.8282828282828283, -0.5808302396906704],\n",
       " [2.929292929292929, -0.681475411491173],\n",
       " [3.0303030303030303, -0.7697390673514206],\n",
       " [3.131313131313131, -0.8440175722120232],\n",
       " [3.2323232323232323, -0.9029613828958664],\n",
       " [3.3333333333333335, -0.945499567540618],\n",
       " [3.4343434343434343, -0.9708592630284495],\n",
       " [3.5353535353535355, -0.9785797168969418],\n",
       " [3.6363636363636362, -0.9685206586080438],\n",
       " [3.7373737373737375, -0.9408648480800849],\n",
       " [3.8383838383838382, -0.8961147551793566],\n",
       " [3.9393939393939394, -0.835083430500546],\n",
       " [4.040404040404041, -0.758879733301998],\n",
       " [4.141414141414141, -0.6688881849848681],\n",
       " [4.242424242424242, -0.5667438141520771],\n",
       " [4.343434343434343, -0.4543024502794192],\n",
       " [4.444444444444445, -0.3336070057239036],\n",
       " [4.545454545454545, -0.20685035868110757],\n",
       " [4.646464646464646, -0.07633551145959319],\n",
       " [4.747474747474747, 0.055566252055608674],\n",
       " [4.848484848484849, 0.18645844952636392],\n",
       " [4.94949494949495, 0.3139629411076956],\n",
       " [5.05050505050505, 0.43576313713496057],\n",
       " [5.151515151515151, 0.5496460875248433],\n",
       " [5.252525252525253, 0.6535426881808503],\n",
       " [5.353535353535354, 0.7455652739055739],\n",
       " [5.454545454545454, 0.824041914805724],\n",
       " [5.555555555555555, 0.8875467930691564],\n",
       " [5.656565656565657, 0.9349261082076299],\n",
       " [5.757575757575758, 0.9653190401009556],\n",
       " [5.858585858585858, 0.9781733889714707],\n",
       " [5.959595959595959, 0.9732556081309776],\n",
       " [6.0606060606060606, 0.9506550472182753],\n",
       " [6.161616161616162, 0.9107823288332123],\n",
       " [6.262626262626262, 0.8543618880616948],\n",
       " [6.363636363636363, 0.7824188104387082],\n",
       " [6.4646464646464645, 0.6962602074863414],\n",
       " [6.565656565656566, 0.5974514682088881],\n",
       " [6.666666666666667, 0.4877878180242742],\n",
       " [6.767676767676767, 0.3692617018687833],\n",
       " [6.8686868686868685, 0.2440265840813628],\n",
       " [6.96969696969697, 0.11435782277621333],\n",
       " [7.070707070707071, -0.017388670434916872],\n",
       " [7.171717171717171, -0.1488192342720146],\n",
       " [7.2727272727272725, -0.27754594747813727],\n",
       " [7.373737373737374, -0.40123001422202825],\n",
       " [7.474747474747475, -0.5176242569560866],\n",
       " [7.575757575757575, -0.6246139446900729],\n",
       " [7.6767676767676765, -0.720255214884294],\n",
       " [7.777777777777778, -0.8028103908867552],\n",
       " [7.878787878787879, -0.8707795532427134],\n",
       " [7.979797979797979, -0.9229277912672529],\n",
       " [8.080808080808081, -0.9583076397555143],\n",
       " [8.181818181818182, -0.9762762931848978],\n",
       " [8.282828282828282, -0.9765072846497622],\n",
       " [8.383838383838384, -0.9589964173376379],\n",
       " [8.484848484848484, -0.9240618407798175],\n",
       " [8.585858585858587, -0.8723382704909354],\n",
       " [8.686868686868687, -0.8047654560191366],\n",
       " [8.787878787878787, -0.722571106927233],\n",
       " [8.88888888888889, -0.6272485869174512],\n",
       " [8.98989898989899, -0.5205297813682876],\n",
       " [9.09090909090909, -0.4043536312448195],\n",
       " [9.191919191919192, -0.2808309050801042],\n",
       " [9.292929292929292, -0.15220584907467627],\n",
       " [9.393939393939394, -0.02081541208155146],\n",
       " [9.494949494949495, 0.11095321369453238],\n",
       " [9.595959595959595, 0.24070596485384285],\n",
       " [9.696969696969697, 0.3660854037989517],\n",
       " [9.797979797979798, 0.4848135502891894],\n",
       " [9.8989898989899, 0.5947332693589532],\n",
       " [10.0, 0.6938474636355993]]"
      ]
     },
     "execution_count": 58,
     "metadata": {},
     "output_type": "execute_result"
    }
   ],
   "source": [
    "linedata[0]"
   ]
  },
  {
   "cell_type": "code",
   "execution_count": null,
   "metadata": {},
   "outputs": [],
   "source": [
    "def color_cluster(cluslter_index_list):\n",
    "    cluster_color_dict={\n",
    "    1:'r',\n",
    "    2:'b',\n",
    "    3:'g',\n",
    "    4:'y',\n",
    "    5:'c',\n",
    "    6:'m' }\n",
    "    cluster_index=1\n",
    "    cluster_color_everyone={}\n",
    "    for cluslter_index in cluslter_index_list:\n",
    "        for one_in_a_cluster in cluslter_index:\n",
    "            cluster_color_everyone[one_in_a_cluster]= cluster_color_dict.get(cluster_index)\n",
    "        cluster_index+=1\n",
    "    return cluster_color_everyone.values()\n",
    "    "
   ]
  },
  {
   "cell_type": "code",
   "execution_count": null,
   "metadata": {},
   "outputs": [],
   "source": [
    "def draw__2D_scatter(cluslter_index_list,sentiment_matrix,color): ##100_dimentional_ to 2_dimention to visullize()\n",
    "    color=color_cluster(cluslter_index_list)\n",
    "    tsne = TSNE(n_components=2)\n",
    "    D_sentiment=tsne.fit_transform(sentiment_matrix)\n",
    "    np.save('../data/k_means_result/2D_sentiment.npy',D_sentiment)\n",
    "    np.save('../data/k_means_result/color_array.npy',color)\n",
    "    np.save('../data/k_means_result/sentiment_matrix.npy',sentiment_matrix)\n",
    "    return D_sentiment,color"
   ]
  }
 ],
 "metadata": {
  "kernelspec": {
   "display_name": "Python 2",
   "language": "python",
   "name": "python2"
  },
  "language_info": {
   "codemirror_mode": {
    "name": "ipython",
    "version": 2
   },
   "file_extension": ".py",
   "mimetype": "text/x-python",
   "name": "python",
   "nbconvert_exporter": "python",
   "pygments_lexer": "ipython2",
   "version": "2.7.15"
  }
 },
 "nbformat": 4,
 "nbformat_minor": 2
}
